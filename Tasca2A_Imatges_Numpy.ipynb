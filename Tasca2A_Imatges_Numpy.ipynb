{
  "nbformat": 4,
  "nbformat_minor": 0,
  "metadata": {
    "colab": {
      "name": "Tasca2A_Imatges_Numpy.ipynb",
      "provenance": [],
      "authorship_tag": "ABX9TyML6S4k+6pAx6J2MGIcROgD"
    },
    "kernelspec": {
      "name": "python3",
      "display_name": "Python 3"
    },
    "language_info": {
      "name": "python"
    }
  },
  "cells": [
    {
      "cell_type": "markdown",
      "metadata": {
        "id": "OsYng11sSmpv"
      },
      "source": [
        "# Tasca 2A: Estructura d'una Matriu\n",
        "\n",
        "Roger Gallart\n",
        "\n",
        "20 abril 2021"
      ]
    },
    {
      "cell_type": "markdown",
      "metadata": {
        "id": "LMoazQV2Szsj"
      },
      "source": [
        "## Nivell 1\n",
        "Treballem els conceptes de l'estructura d'una matriu, dimensió, eixos i la vectorització que ens permet reduir l'ús de for loops en operacions aritmètiques o matemàtiques."
      ]
    },
    {
      "cell_type": "markdown",
      "metadata": {
        "id": "7OOp21v1S6c-"
      },
      "source": [
        "### Exercici 1\n",
        "Crea un np.array d'una dimensió, que inclogui l'almenys 8 nombres sencers, data type int64. Mostra la dimensió i la forma de la matriu."
      ]
    },
    {
      "cell_type": "code",
      "metadata": {
        "colab": {
          "base_uri": "https://localhost:8080/"
        },
        "id": "3LlIkwHtUFcv",
        "outputId": "a57c9ad0-2032-4f7f-a635-8d6c05447944"
      },
      "source": [
        "import numpy as np\n",
        "from random import randint\n",
        "\n",
        "x = np.array([randint(0,10) for _ in range(8)], dtype='i8') #i8 = integer of 8 bytes = 64 bits = int64\n",
        "\n",
        "print(f'L\\'array x és: {x}')\n",
        "print(f'Les dimensions de x són: {x.shape}')\n",
        "\n"
      ],
      "execution_count": 13,
      "outputs": [
        {
          "output_type": "stream",
          "text": [
            "L'array x és: [ 4  7  5  7  4  7  4 10]\n",
            "Les dimensions de x són: (8,)\n"
          ],
          "name": "stdout"
        }
      ]
    },
    {
      "cell_type": "markdown",
      "metadata": {
        "id": "BrLeaQlhS9R9"
      },
      "source": [
        "### Exercici 2\n",
        "De la matriu de l'exercici 1, calcula el valor mitjà dels valors introduïts i resta la mitjana resultant de cada un dels valors de la matriu."
      ]
    },
    {
      "cell_type": "code",
      "metadata": {
        "colab": {
          "base_uri": "https://localhost:8080/"
        },
        "id": "xn0EegzIWbc-",
        "outputId": "e38a2e47-b3f7-4e28-f67c-99a349da2d61"
      },
      "source": [
        "m = np.mean(x)\n",
        "print(f'El valor mitjà dels elements de x és: {m}')\n",
        "\n",
        "x2 = x - m\n",
        "print(f'Si restem la mitjana dels valors de x, obtenim: {x2}')"
      ],
      "execution_count": 14,
      "outputs": [
        {
          "output_type": "stream",
          "text": [
            "El valor mitjà dels elements de x és: 6.0\n",
            "Si restem la mitjana dels valors de x, obtenim: [-2.  1. -1.  1. -2.  1. -2.  4.]\n"
          ],
          "name": "stdout"
        }
      ]
    },
    {
      "cell_type": "markdown",
      "metadata": {
        "id": "j9A1I7ToTD5G"
      },
      "source": [
        "### Exercici 3\n",
        "Crea una matriu bidimensional amb una forma de 5 x 5. Extreu el valor màxim de la matriu, i els valors màxims de cadascun dels seus eixos"
      ]
    },
    {
      "cell_type": "code",
      "metadata": {
        "colab": {
          "base_uri": "https://localhost:8080/"
        },
        "id": "wPJA7KAvXvcU",
        "outputId": "cfc4d8aa-f99e-45fa-aed0-80fe9f2e6f2c"
      },
      "source": [
        "# Creem una llista de 25 enters aleatoris, el convertim en un ndarray 1D de \n",
        "# 25 elements, i finalment el reformatem a una matriu de 5x5\n",
        "y = np.array([randint(0,10) for _ in range(25)], dtype='i8').reshape(5,5)\n",
        "\n",
        "print(f'La matriu bidimensional y és:\\n {y}')\n",
        "print(f'El valor màxim de la matriu y és: {np.max(y)}')\n",
        "print(f'Els valors màxims de cada columna de y són: {np.max(y,axis=0)}')\n",
        "print(f'Els valors màxims de cada fila de y són: {np.max(y, axis=1)}')"
      ],
      "execution_count": 15,
      "outputs": [
        {
          "output_type": "stream",
          "text": [
            "La matriu bidimensional y és:\n",
            " [[ 7  5  2  5  6]\n",
            " [ 7 10  8 10  1]\n",
            " [ 9  0  4  3  0]\n",
            " [ 1  0  6  3 10]\n",
            " [10  6  9  9  9]]\n",
            "El valor màxim de la matriu y és: 10\n",
            "Els valors màxims de cada columna de y són: [10 10  9 10 10]\n",
            "Els valors màxims de cada fila de y són: [ 7 10  9 10 10]\n"
          ],
          "name": "stdout"
        }
      ]
    },
    {
      "cell_type": "markdown",
      "metadata": {
        "id": "W3jPQuDLTISe"
      },
      "source": [
        "## Nivell 2\n",
        "Treballem els conceptes de l'estructura d'una matriu, Broadcasting, indexació, Mask."
      ]
    },
    {
      "cell_type": "markdown",
      "metadata": {
        "id": "gdKEhBfKTNDz"
      },
      "source": [
        "### Exercici 4\n",
        "\n",
        "Mostreu-me amb exemples de diferents matrius, la regla fonamental de Broadcasting que diu : \"les matrius es poden transmetre / broadcast si les seves dimensions coincideixen o si una de les matrius té una mida d'1\"."
      ]
    },
    {
      "cell_type": "markdown",
      "metadata": {
        "id": "zAH3mhm8N7s1"
      },
      "source": [
        "**General Broadcasting rules:** When operating on two arrays, NumPy compares their shapes element-wise, **from right to left**.\n",
        "\n",
        "Two dimensions are compatible when:\n",
        "- they are equal, or\n",
        "- one of them is 1\n",
        "\n",
        "IMPORTANT: Arrays do not need to have the same number of dimensions."
      ]
    },
    {
      "cell_type": "code",
      "metadata": {
        "colab": {
          "base_uri": "https://localhost:8080/"
        },
        "id": "S46knhMKZ7Go",
        "outputId": "12cca242-0b7d-4641-8b85-a38ab364eba8"
      },
      "source": [
        "# EXEMPLE 1: Mateix nobre dimensions, mateixes mides\n",
        "\n",
        "a = np.array([[1,2,3],[10,20,30]]) # 2D ndarray (2,3)\n",
        "b = np.array([[100,200,300],[1000,2000,3000]]) # 2D array (2,3)\n",
        "\n",
        "print(a, f'\\nDimensions de a: {a.shape}\\n')\n",
        "print(b, f'\\nDimensions de b: {b.shape}\\n')\n",
        "\n",
        "c = a + b\n",
        "print(c, f'\\nDimensions de a+b: {c.shape}\\n')\n",
        "\n",
        "#A      (2d array):  2 x 3\n",
        "#B      (2d array):  2 x 3\n",
        "#Result (2d array):  2 x 3\n"
      ],
      "execution_count": 16,
      "outputs": [
        {
          "output_type": "stream",
          "text": [
            "[[ 1  2  3]\n",
            " [10 20 30]] \n",
            "Dimensions de a: (2, 3)\n",
            "\n",
            "[[ 100  200  300]\n",
            " [1000 2000 3000]] \n",
            "Dimensions de b: (2, 3)\n",
            "\n",
            "[[ 101  202  303]\n",
            " [1010 2020 3030]] \n",
            "Dimensions de a+b: (2, 3)\n",
            "\n"
          ],
          "name": "stdout"
        }
      ]
    },
    {
      "cell_type": "code",
      "metadata": {
        "colab": {
          "base_uri": "https://localhost:8080/"
        },
        "id": "QWD6E03UQNdo",
        "outputId": "7aa054c5-4ca5-4119-8d91-64722c188b6a"
      },
      "source": [
        "# EXEMPLE 2: Diferent nobre dimensions, mateixes mides\n",
        "\n",
        "a = np.array([[1,2,3],[10,20,30]]) # 2D ndarray (2,3)\n",
        "b = np.array([100,200,300]) # 1D array (3,)\n",
        "\n",
        "print(a, f'\\nDimensions de a: {a.shape}\\n')\n",
        "print(b, f'\\nDimensions de b: {b.shape}\\n')\n",
        "\n",
        "c = a + b\n",
        "print(c, f'\\nDimensions de a+b: {c.shape}\\n')\n",
        "\n",
        "#A      (2d array):  2 x 3\n",
        "#B      (1d array):      3\n",
        "#Result (2d array):  2 x 3\n"
      ],
      "execution_count": 17,
      "outputs": [
        {
          "output_type": "stream",
          "text": [
            "[[ 1  2  3]\n",
            " [10 20 30]] \n",
            "Dimensions de a: (2, 3)\n",
            "\n",
            "[100 200 300] \n",
            "Dimensions de b: (3,)\n",
            "\n",
            "[[101 202 303]\n",
            " [110 220 330]] \n",
            "Dimensions de a+b: (2, 3)\n",
            "\n"
          ],
          "name": "stdout"
        }
      ]
    },
    {
      "cell_type": "code",
      "metadata": {
        "colab": {
          "base_uri": "https://localhost:8080/"
        },
        "id": "8pJ7_4BSQ4Bq",
        "outputId": "cafc66f8-13b4-46ee-9f60-5b0f9b99a5da"
      },
      "source": [
        "# EXEMPLE 3: Diferent nobre dimensions, mateixes mides excepte una que és 1\n",
        "\n",
        "a = np.array([[1,2,3],[10,20,30]]) # 2D ndarray (2,3)\n",
        "b = np.array([[100],[200]]) # 1D array (2,1)\n",
        "\n",
        "print(a, f'\\nDimensions de a: {a.shape}\\n')\n",
        "print(b, f'\\nDimensions de b: {b.shape}\\n')\n",
        "\n",
        "c = a + b\n",
        "print(c, f'\\nDimensions de a+b: {c.shape}\\n')\n",
        "\n",
        "#A      (2d array):  2 x 3\n",
        "#B      (2d array):  2 x 1\n",
        "#Result (2d array):  2 x 3\n"
      ],
      "execution_count": 18,
      "outputs": [
        {
          "output_type": "stream",
          "text": [
            "[[ 1  2  3]\n",
            " [10 20 30]] \n",
            "Dimensions de a: (2, 3)\n",
            "\n",
            "[[100]\n",
            " [200]] \n",
            "Dimensions de b: (2, 1)\n",
            "\n",
            "[[101 102 103]\n",
            " [210 220 230]] \n",
            "Dimensions de a+b: (2, 3)\n",
            "\n"
          ],
          "name": "stdout"
        }
      ]
    },
    {
      "cell_type": "code",
      "metadata": {
        "colab": {
          "base_uri": "https://localhost:8080/"
        },
        "id": "5keIFBYfRqWk",
        "outputId": "98711d79-37e9-434c-f224-dcf0f49b82eb"
      },
      "source": [
        "# EXEMPLE 4: Dimensions INCOMPATIBLES\n",
        "\n",
        "a = np.array([[1,2,3,4],[10,20,30,40]]) # 2D ndarray (2,4)\n",
        "b = np.array([100,200,300]) # 1D array (3,)\n",
        "\n",
        "print(a, f'\\nDimensions de a: {a.shape}\\n')\n",
        "print(b, f'\\nDimensions de b: {b.shape}\\n')\n",
        "\n",
        "try:\n",
        "  c = a + b\n",
        "except:\n",
        "  print('Error al fer la suma a+b: dimensions incompatibles')\n",
        "\n",
        "#A      (2d array):  2 x 4\n",
        "#B      (1d array):      3\n",
        "#Result (2d array):  ERROR\n"
      ],
      "execution_count": 19,
      "outputs": [
        {
          "output_type": "stream",
          "text": [
            "[[ 1  2  3  4]\n",
            " [10 20 30 40]] \n",
            "Dimensions de a: (2, 4)\n",
            "\n",
            "[100 200 300] \n",
            "Dimensions de b: (3,)\n",
            "\n",
            "Error al fer la suma a+b: dimensions incompatibles\n"
          ],
          "name": "stdout"
        }
      ]
    },
    {
      "cell_type": "markdown",
      "metadata": {
        "id": "xDmWyGJjTSZ4"
      },
      "source": [
        "### Exercici 5\n",
        "Utilitza la Indexació per extreure els valors d'una columna i una fila de la matriu. I suma els seus valors.\n"
      ]
    },
    {
      "cell_type": "code",
      "metadata": {
        "colab": {
          "base_uri": "https://localhost:8080/"
        },
        "id": "SO9jWYasew6M",
        "outputId": "05a66d62-5fcc-4840-dc8f-c216b3c2cad8"
      },
      "source": [
        "print(f'La matriu y és:\\n{y}')\n",
        "\n",
        "col = y[:,2]\n",
        "print(f'\\nLa tercera columna de la matriu y és: {col}\\n i la suma del valors dels seus elements és: {col.sum()}')\n",
        "\n",
        "row = y[3,:]\n",
        "print(f'\\nLa quarta columna de la matriu y és: {row}\\n i la suma del valors dels seus elements és: {row.sum()}')"
      ],
      "execution_count": 20,
      "outputs": [
        {
          "output_type": "stream",
          "text": [
            "La matriu y és:\n",
            "[[ 7  5  2  5  6]\n",
            " [ 7 10  8 10  1]\n",
            " [ 9  0  4  3  0]\n",
            " [ 1  0  6  3 10]\n",
            " [10  6  9  9  9]]\n",
            "\n",
            "La tercera columna de la matriu y és: [2 8 4 6 9]\n",
            " i la suma del valors dels seus elements és: 29\n",
            "\n",
            "La quarta columna de la matriu y és: [ 1  0  6  3 10]\n",
            " i la suma del valors dels seus elements és: 20\n"
          ],
          "name": "stdout"
        }
      ]
    },
    {
      "cell_type": "markdown",
      "metadata": {
        "id": "tDCcJjciTgAW"
      },
      "source": [
        "### Exercici 6\n",
        "Mask la matriu anterior, realitzeu un càlcul booleà vectoritzat, agafant cada element i comprovant si es divideix uniformement per quatre.\n",
        "\n",
        "Això retorna una matriu de mask de la mateixa forma amb els resultats elementals del càlcul."
      ]
    },
    {
      "cell_type": "code",
      "metadata": {
        "colab": {
          "base_uri": "https://localhost:8080/"
        },
        "id": "p-jii6BfgFAO",
        "outputId": "1c6dbb1f-5c77-4282-dc44-302d164c7681"
      },
      "source": [
        "print(f'La matriu y és:\\n{y}')\n",
        "\n",
        "mask = (y % 4 == 0)\n",
        "print(f'\\nQuins elements de la matriu y són divisibles per 4:\\n {mask}')"
      ],
      "execution_count": 21,
      "outputs": [
        {
          "output_type": "stream",
          "text": [
            "La matriu y és:\n",
            "[[ 7  5  2  5  6]\n",
            " [ 7 10  8 10  1]\n",
            " [ 9  0  4  3  0]\n",
            " [ 1  0  6  3 10]\n",
            " [10  6  9  9  9]]\n",
            "\n",
            "Quins elements de la matriu y són divisibles per 4:\n",
            " [[False False False False False]\n",
            " [False False  True False False]\n",
            " [False  True  True False  True]\n",
            " [False  True False False False]\n",
            " [False False False False False]]\n"
          ],
          "name": "stdout"
        }
      ]
    },
    {
      "cell_type": "markdown",
      "metadata": {
        "id": "6WCy5jfyTluq"
      },
      "source": [
        "### Exercici 7\n",
        "A continuació, utilitzeu aquesta màscara per indexar a la matriu de números original. Això fa que la matriu perdi la seva forma original, reduint-la a una dimensió, però encara obteniu les dades que esteu cercant."
      ]
    },
    {
      "cell_type": "code",
      "metadata": {
        "colab": {
          "base_uri": "https://localhost:8080/"
        },
        "id": "yVHhV9qYh6jY",
        "outputId": "d8d7c80a-4e12-4524-bbdb-ca7689b8318a"
      },
      "source": [
        "print(f'Els valors de la matriu y que són divisibles per 4 són: {y[mask]}')"
      ],
      "execution_count": 22,
      "outputs": [
        {
          "output_type": "stream",
          "text": [
            "Els valors de la matriu y que són divisibles per 4 són: [8 0 4 0 0]\n"
          ],
          "name": "stdout"
        }
      ]
    },
    {
      "cell_type": "markdown",
      "metadata": {
        "id": "VyIxN8CUT54j"
      },
      "source": [
        "## Nivell 3\n",
        "Manipulació d’imatges amb Matplotlib.\n",
        "\n",
        "Carregareu qualsevol imatge (jpg, png ..) amb Matplotlib. adoneu-vos que les imatges RGB (Red, Green, Blue) són realment només amplades × alçades × 3 matrius (tres canals Vermell, Verd i Blau), una per cada color de nombres enters int8,\n",
        "\n",
        "manipuleu aquests bytes i torneu a utilitzar Matplotlib per desar la imatge modificada un cop hàgiu acabat.\n",
        "\n",
        "Ajuda:Importeu, import matplotlib.image as mpimg. estudieu el metodde mpimg.imread(()"
      ]
    },
    {
      "cell_type": "markdown",
      "metadata": {
        "id": "oAWhdVaQT80d"
      },
      "source": [
        "### Exercici 8\n",
        "Mostreu-me a veure que passa quan eliminem el canal G Verd o B Blau.\n",
        "\n",
        "Mostreu-me a veure què passa quan eliminem el canal G Verd o B Blau. Hauries d'utilitzar la indexació per seleccionar el canal que voleu anul·lar.\n",
        "\n",
        "Utilitzar el mètode, mpimg.imsave () de la llibreria importada, per guardar les imatges modificades i que haureu de pujar al vostre repositori a github."
      ]
    },
    {
      "cell_type": "code",
      "metadata": {
        "colab": {
          "base_uri": "https://localhost:8080/"
        },
        "id": "9ztsuxMNSX1U",
        "outputId": "ad6a90b4-5b4e-4f6e-9836-530ba4dc58db"
      },
      "source": [
        "import matplotlib.image as mpimg\n",
        "\n",
        "url = 'https://i.pinimg.com/originals/c1/f3/95/c1f395d9d3634e0773e64abbdafc90ac.png'\n",
        "img_RGB = mpimg.imread(url)\n",
        "\n",
        "print(f'Les dimensions de la imatge importada: {img_RGB.shape}')"
      ],
      "execution_count": 23,
      "outputs": [
        {
          "output_type": "stream",
          "text": [
            "Les dimensions de la imatge importada: (290, 500, 3)\n"
          ],
          "name": "stdout"
        }
      ]
    },
    {
      "cell_type": "code",
      "metadata": {
        "id": "5rHsCutWnGd7"
      },
      "source": [
        "# Si eliminem el canal G Verd\n",
        "img_RB = img_RGB.copy()\n",
        "img_RB[:,:,1] = 0\n",
        "mpimg.imsave('img_senseVerd.png', img_RB)"
      ],
      "execution_count": 24,
      "outputs": []
    },
    {
      "cell_type": "code",
      "metadata": {
        "id": "WtGs4Im_o0R9"
      },
      "source": [
        "# Si eliminem el canal B Blau\n",
        "img_RG = img_RGB.copy()\n",
        "img_RG[:,:,2] = 0\n",
        "mpimg.imsave('img_senseBlau.png', img_RG)"
      ],
      "execution_count": 25,
      "outputs": []
    }
  ]
}