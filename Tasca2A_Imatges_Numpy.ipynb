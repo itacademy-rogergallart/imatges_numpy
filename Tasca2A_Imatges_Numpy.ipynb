{
  "nbformat": 4,
  "nbformat_minor": 0,
  "metadata": {
    "colab": {
      "name": "Tasca2A_Imatges_Numpy.ipynb",
      "provenance": [],
      "toc_visible": true,
      "authorship_tag": "ABX9TyNTbQ6mO+pMBtrWcQoxjPRY"
    },
    "kernelspec": {
      "name": "python3",
      "display_name": "Python 3"
    },
    "language_info": {
      "name": "python"
    }
  },
  "cells": [
    {
      "cell_type": "markdown",
      "metadata": {
        "id": "OsYng11sSmpv"
      },
      "source": [
        "# Tasca 2A: Estructura d'una Matriu\n",
        "\n",
        "Roger Gallart\n",
        "\n",
        "20 abril 2021"
      ]
    },
    {
      "cell_type": "markdown",
      "metadata": {
        "id": "LMoazQV2Szsj"
      },
      "source": [
        "## Nivell 1\n",
        "Treballem els conceptes de l'estructura d'una matriu, dimensió, eixos i la vectorització que ens permet reduir l'ús de for loops en operacions aritmètiques o matemàtiques."
      ]
    },
    {
      "cell_type": "markdown",
      "metadata": {
        "id": "7OOp21v1S6c-"
      },
      "source": [
        "### Exercici 1\n",
        "Crea un np.array d'una dimensió, que inclogui l'almenys 8 nombres sencers, data type int64. Mostra la dimensió i la forma de la matriu."
      ]
    },
    {
      "cell_type": "code",
      "metadata": {
        "colab": {
          "base_uri": "https://localhost:8080/"
        },
        "id": "3LlIkwHtUFcv",
        "outputId": "8cba5366-9464-4ab3-b2bc-76b6391dcb44"
      },
      "source": [
        "import numpy as np\n",
        "from random import randint\n",
        "\n",
        "x = np.array([randint(0,10) for _ in range(8)], dtype='i8') #i8 = integer of 8 bytes = 64 bits = int64\n",
        "\n",
        "print(f'L\\'array x és: {x}')\n",
        "print(f'Les dimensions de x són: {x.shape}')\n",
        "\n"
      ],
      "execution_count": 73,
      "outputs": [
        {
          "output_type": "stream",
          "text": [
            "L'array x és: [ 9 10  6  9  4  5  4  2]\n",
            "Les dimensions de x són: (8,)\n"
          ],
          "name": "stdout"
        }
      ]
    },
    {
      "cell_type": "markdown",
      "metadata": {
        "id": "BrLeaQlhS9R9"
      },
      "source": [
        "### Exercici 2\n",
        "De la matriu de l'exercici 1, calcula el valor mitjà dels valors introduïts i resta la mitjana resultant de cada un dels valors de la matriu."
      ]
    },
    {
      "cell_type": "code",
      "metadata": {
        "colab": {
          "base_uri": "https://localhost:8080/"
        },
        "id": "xn0EegzIWbc-",
        "outputId": "0e4dc704-56bf-461a-b577-123bffd73d53"
      },
      "source": [
        "m = np.mean(x)\n",
        "print(f'El valor mitjà dels elements de x és: {m}')\n",
        "\n",
        "x2 = x - m\n",
        "print(f'Si restem la mitjana dels valors de x, obtenim: {x2}')"
      ],
      "execution_count": 75,
      "outputs": [
        {
          "output_type": "stream",
          "text": [
            "El valor mitjà dels elements de x és: 6.125\n",
            "Si restem la mitjana dels valors de x, obtenim: [ 2.875  3.875 -0.125  2.875 -2.125 -1.125 -2.125 -4.125]\n"
          ],
          "name": "stdout"
        }
      ]
    },
    {
      "cell_type": "markdown",
      "metadata": {
        "id": "j9A1I7ToTD5G"
      },
      "source": [
        "### Exercici 3\n",
        "Crea una matriu bidimensional amb una forma de 5 x 5. Extreu el valor màxim de la matriu, i els valors màxims de cadascun dels seus eixos"
      ]
    },
    {
      "cell_type": "code",
      "metadata": {
        "colab": {
          "base_uri": "https://localhost:8080/"
        },
        "id": "wPJA7KAvXvcU",
        "outputId": "5ec11f5f-2b45-44f8-9af2-0f77438f0743"
      },
      "source": [
        "# Creem una llista de 25 enters aleatoris, el convertim en un ndarray 1D de \n",
        "# 25 elements, i finalment el reformatem a una matriu de 5x5\n",
        "y = np.array([randint(0,10) for _ in range(25)], dtype='i8').reshape(5,5)\n",
        "\n",
        "print(f'La matriu bidimensional y és:\\n {y}')\n",
        "print(f'El valor màxim de la matriu y és: {np.max(y)}')\n",
        "print(f'Els valors màxims de cada columna de y són: {np.max(y,axis=0)}')\n",
        "print(f'Els valors màxims de cada fila de y són: {np.max(y, axis=1)}')"
      ],
      "execution_count": 77,
      "outputs": [
        {
          "output_type": "stream",
          "text": [
            "La matriu bidimensional y és:\n",
            " [[ 2  5  5 10  0]\n",
            " [ 1  4  0  9  4]\n",
            " [ 9  9  2  6  4]\n",
            " [ 0  2  1  0  5]\n",
            " [ 4  8 10 10  4]]\n",
            "El valor màxim de la matriu y és: 10\n",
            "Els valors màxims de cada columna de y són: [ 9  9 10 10  5]\n",
            "Els valors màxims de cada fila de y són: [10  9  9  5 10]\n"
          ],
          "name": "stdout"
        }
      ]
    },
    {
      "cell_type": "markdown",
      "metadata": {
        "id": "W3jPQuDLTISe"
      },
      "source": [
        "## Nivell 2\n",
        "Treballem els conceptes de l'estructura d'una matriu, Broadcasting, indexació, Mask."
      ]
    },
    {
      "cell_type": "markdown",
      "metadata": {
        "id": "gdKEhBfKTNDz"
      },
      "source": [
        "### Exercici 4\n",
        "\n",
        "Mostreu-me amb exemples de diferents matrius, la regla fonamental de Broadcasting que diu : \"les matrius es poden transmetre / broadcast si les seves dimensions coincideixen o si una de les matrius té una mida d'1\"."
      ]
    },
    {
      "cell_type": "code",
      "metadata": {
        "colab": {
          "base_uri": "https://localhost:8080/"
        },
        "id": "S46knhMKZ7Go",
        "outputId": "b03e56bf-e35e-41d4-dd07-f84a961eef01"
      },
      "source": [
        "# Dimensions coincidents\n",
        "a = np.array([1,2,3,4])[:,np.newaxis]\n",
        "b = np.array([10,20,30,40])\n",
        "\n",
        "print(a, f'\\nDimensions de a: {a.shape}\\n')\n",
        "print(b, f'\\nDimensions de b: {b.shape}\\n')\n",
        "\n",
        "c = a + b\n",
        "print(c, f'\\nDimensions de a+b: {c.shape}\\n')"
      ],
      "execution_count": 78,
      "outputs": [
        {
          "output_type": "stream",
          "text": [
            "[[1]\n",
            " [2]\n",
            " [3]\n",
            " [4]] \n",
            "Dimensions de a: (4, 1)\n",
            "\n",
            "[10 20 30 40] \n",
            "Dimensions de b: (4,)\n",
            "\n",
            "[[11 21 31 41]\n",
            " [12 22 32 42]\n",
            " [13 23 33 43]\n",
            " [14 24 34 44]] \n",
            "Dimensions de a+b: (4, 4)\n",
            "\n"
          ],
          "name": "stdout"
        }
      ]
    },
    {
      "cell_type": "code",
      "metadata": {
        "colab": {
          "base_uri": "https://localhost:8080/",
          "height": 368
        },
        "id": "-9C0Uxztb1xx",
        "outputId": "c05071b4-3108-4888-bf7e-71a2165d4060"
      },
      "source": [
        "# U\n",
        "a = np.array([[1,2,3],[10,20,30],[100,200,300],[1000,2000,3000]])\n",
        "b = np.array([1,2,3,4])\n",
        "\n",
        "print(a, f'\\nDimensions de a: {a.shape}\\n')\n",
        "print(b, f'\\nDimensions de b: {b.shape}\\n')\n",
        "\n",
        "c = a + b\n",
        "print(c, f'\\nDimensions de a+b: {c.shape}\\n')"
      ],
      "execution_count": 80,
      "outputs": [
        {
          "output_type": "stream",
          "text": [
            "[[   1    2    3]\n",
            " [  10   20   30]\n",
            " [ 100  200  300]\n",
            " [1000 2000 3000]] \n",
            "Dimensions de a: (4, 3)\n",
            "\n",
            "[1 2 3 4] \n",
            "Dimensions de b: (4,)\n",
            "\n"
          ],
          "name": "stdout"
        },
        {
          "output_type": "error",
          "ename": "ValueError",
          "evalue": "ignored",
          "traceback": [
            "\u001b[0;31m---------------------------------------------------------------------------\u001b[0m",
            "\u001b[0;31mValueError\u001b[0m                                Traceback (most recent call last)",
            "\u001b[0;32m<ipython-input-80-496386000f4e>\u001b[0m in \u001b[0;36m<module>\u001b[0;34m()\u001b[0m\n\u001b[1;32m      6\u001b[0m \u001b[0mprint\u001b[0m\u001b[0;34m(\u001b[0m\u001b[0mb\u001b[0m\u001b[0;34m,\u001b[0m \u001b[0;34mf'\\nDimensions de b: {b.shape}\\n'\u001b[0m\u001b[0;34m)\u001b[0m\u001b[0;34m\u001b[0m\u001b[0;34m\u001b[0m\u001b[0m\n\u001b[1;32m      7\u001b[0m \u001b[0;34m\u001b[0m\u001b[0m\n\u001b[0;32m----> 8\u001b[0;31m \u001b[0mc\u001b[0m \u001b[0;34m=\u001b[0m \u001b[0ma\u001b[0m \u001b[0;34m+\u001b[0m \u001b[0mb\u001b[0m\u001b[0;34m\u001b[0m\u001b[0;34m\u001b[0m\u001b[0m\n\u001b[0m\u001b[1;32m      9\u001b[0m \u001b[0mprint\u001b[0m\u001b[0;34m(\u001b[0m\u001b[0mc\u001b[0m\u001b[0;34m,\u001b[0m \u001b[0;34mf'\\nDimensions de a+b: {c.shape}\\n'\u001b[0m\u001b[0;34m)\u001b[0m\u001b[0;34m\u001b[0m\u001b[0;34m\u001b[0m\u001b[0m\n",
            "\u001b[0;31mValueError\u001b[0m: operands could not be broadcast together with shapes (4,3) (4,) "
          ]
        }
      ]
    },
    {
      "cell_type": "markdown",
      "metadata": {
        "id": "xDmWyGJjTSZ4"
      },
      "source": [
        "### Exercici 5\n",
        "Utilitza la Indexació per extreure els valors d'una columna i una fila de la matriu. I suma els seus valors.\n"
      ]
    },
    {
      "cell_type": "code",
      "metadata": {
        "colab": {
          "base_uri": "https://localhost:8080/"
        },
        "id": "SO9jWYasew6M",
        "outputId": "4e214fb9-2764-45e3-a530-60f80523809f"
      },
      "source": [
        "print(f'La matriu y és:\\n{y}')\n",
        "\n",
        "col = y[:,2]\n",
        "print(f'\\nLa tercera columna de la matriu y és: {col}\\n i la suma del valors dels seus elements és: {col.sum()}')\n",
        "\n",
        "row = y[3,:]\n",
        "print(f'\\nLa quarta columna de la matriu y és: {row}\\n i la suma del valors dels seus elements és: {row.sum()}')"
      ],
      "execution_count": null,
      "outputs": [
        {
          "output_type": "stream",
          "text": [
            "La matriu y és:\n",
            "[[ 6  6  0  3  7]\n",
            " [ 4  8  5  3  1]\n",
            " [ 2  9  1  9  7]\n",
            " [ 1  6  4  2 10]\n",
            " [ 3  8  0 10  0]]\n",
            "\n",
            "La tercera columna de la matriu y és: [0 5 1 4 0]\n",
            " i la suma del valors dels seus elements és: 10\n",
            "\n",
            "La quarta columna de la matriu y és: [ 1  6  4  2 10]\n",
            " i la suma del valors dels seus elements és: 23\n"
          ],
          "name": "stdout"
        }
      ]
    },
    {
      "cell_type": "markdown",
      "metadata": {
        "id": "tDCcJjciTgAW"
      },
      "source": [
        "### Exercici 6\n",
        "Mask la matriu anterior, realitzeu un càlcul booleà vectoritzat, agafant cada element i comprovant si es divideix uniformement per quatre.\n",
        "\n",
        "Això retorna una matriu de mask de la mateixa forma amb els resultats elementals del càlcul."
      ]
    },
    {
      "cell_type": "code",
      "metadata": {
        "colab": {
          "base_uri": "https://localhost:8080/"
        },
        "id": "p-jii6BfgFAO",
        "outputId": "5f8da20b-c5db-4d9f-c222-7e3fb631d030"
      },
      "source": [
        "print(f'La matriu y és:\\n{y}')\n",
        "\n",
        "mask = (y % 4 == 0)\n",
        "print(f'\\nQuins elements de la matriu y són divisibles per 4:\\n {mask}')"
      ],
      "execution_count": null,
      "outputs": [
        {
          "output_type": "stream",
          "text": [
            "La matriu y és:\n",
            "[[ 6  6  0  3  7]\n",
            " [ 4  8  5  3  1]\n",
            " [ 2  9  1  9  7]\n",
            " [ 1  6  4  2 10]\n",
            " [ 3  8  0 10  0]]\n",
            "\n",
            "Quins elements de la matriu y són divisibles per 4:\n",
            " [[False False  True False False]\n",
            " [ True  True False False False]\n",
            " [False False False False False]\n",
            " [False False  True False False]\n",
            " [False  True  True False  True]]\n"
          ],
          "name": "stdout"
        }
      ]
    },
    {
      "cell_type": "markdown",
      "metadata": {
        "id": "6WCy5jfyTluq"
      },
      "source": [
        "### Exercici 7\n",
        "A continuació, utilitzeu aquesta màscara per indexar a la matriu de números original. Això fa que la matriu perdi la seva forma original, reduint-la a una dimensió, però encara obteniu les dades que esteu cercant."
      ]
    },
    {
      "cell_type": "code",
      "metadata": {
        "colab": {
          "base_uri": "https://localhost:8080/"
        },
        "id": "yVHhV9qYh6jY",
        "outputId": "a27587e2-8682-4a17-d71d-ac57c053ac29"
      },
      "source": [
        "print(f'Els valors de la matriu y que són divisibles per 4 són: {y[mask]}')"
      ],
      "execution_count": null,
      "outputs": [
        {
          "output_type": "stream",
          "text": [
            "Els valors de la matriu y que són divisibles per 4 són: [0 4 8 4 8 0 0]\n"
          ],
          "name": "stdout"
        }
      ]
    },
    {
      "cell_type": "markdown",
      "metadata": {
        "id": "VyIxN8CUT54j"
      },
      "source": [
        "## Nivell 3\n",
        "Manipulació d’imatges amb Matplotlib.\n",
        "\n",
        "Carregareu qualsevol imatge (jpg, png ..) amb Matplotlib. adoneu-vos que les imatges RGB (Red, Green, Blue) són realment només amplades × alçades × 3 matrius (tres canals Vermell, Verd i Blau), una per cada color de nombres enters int8,\n",
        "\n",
        "manipuleu aquests bytes i torneu a utilitzar Matplotlib per desar la imatge modificada un cop hàgiu acabat.\n",
        "\n",
        "Ajuda:Importeu, import matplotlib.image as mpimg. estudieu el metodde mpimg.imread(()"
      ]
    },
    {
      "cell_type": "markdown",
      "metadata": {
        "id": "oAWhdVaQT80d"
      },
      "source": [
        "### Exercici 8\n",
        "Mostreu-me a veure que passa quan eliminem el canal G Verd o B Blau.\n",
        "\n",
        "Mostreu-me a veure què passa quan eliminem el canal G Verd o B Blau. Hauries d'utilitzar la indexació per seleccionar el canal que voleu anul·lar.\n",
        "\n",
        "Utilitzar el mètode, mpimg.imsave () de la llibreria importada, per guardar les imatges modificades i que haureu de pujar al vostre repositori a github."
      ]
    },
    {
      "cell_type": "code",
      "metadata": {
        "colab": {
          "base_uri": "https://localhost:8080/"
        },
        "id": "9ztsuxMNSX1U",
        "outputId": "2fbc6f82-576b-4ab0-95ef-26b91affb83c"
      },
      "source": [
        "import matplotlib.image as mpimg\n",
        "\n",
        "url = 'https://i.pinimg.com/originals/c1/f3/95/c1f395d9d3634e0773e64abbdafc90ac.png'\n",
        "img_RGB = mpimg.imread(url)\n",
        "\n",
        "print(f'Les dimensions de la imatge importada: {img_RGB.shape}')"
      ],
      "execution_count": 68,
      "outputs": [
        {
          "output_type": "stream",
          "text": [
            "Les dimensions de la imatge importada: (290, 500, 3)\n"
          ],
          "name": "stdout"
        }
      ]
    },
    {
      "cell_type": "code",
      "metadata": {
        "id": "5rHsCutWnGd7"
      },
      "source": [
        "# Si eliminem el canal G Verd\n",
        "img_RB = img_RGB.copy()\n",
        "img_RB[:,:,1] = 0\n",
        "mpimg.imsave('img_senseVerd.png', img_RB)"
      ],
      "execution_count": 70,
      "outputs": []
    },
    {
      "cell_type": "code",
      "metadata": {
        "id": "WtGs4Im_o0R9"
      },
      "source": [
        "# Si eliminem el canal B Blau\n",
        "img_RG = img_RGB.copy()\n",
        "img_RG[:,:,2] = 0\n",
        "mpimg.imsave('img_senseBlau.png', img_RG)"
      ],
      "execution_count": 72,
      "outputs": []
    }
  ]
}