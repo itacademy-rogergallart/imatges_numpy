{
  "nbformat": 4,
  "nbformat_minor": 0,
  "metadata": {
    "colab": {
      "name": "Tasca2A_Imatges_Numpy.ipynb",
      "provenance": [],
      "authorship_tag": "ABX9TyPqMbQ46e8Quv43JeHzan+b"
    },
    "kernelspec": {
      "name": "python3",
      "display_name": "Python 3"
    },
    "language_info": {
      "name": "python"
    }
  },
  "cells": [
    {
      "cell_type": "code",
      "metadata": {
        "id": "9ztsuxMNSX1U"
      },
      "source": [
        ""
      ],
      "execution_count": null,
      "outputs": []
    }
  ]
}